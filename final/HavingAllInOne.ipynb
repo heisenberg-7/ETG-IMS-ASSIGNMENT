{
 "cells": [
  {
   "cell_type": "markdown",
   "source": [
    "IMPORT JSON AND TIME MODULE"
   ],
   "metadata": {}
  },
  {
   "cell_type": "code",
   "execution_count": 36,
   "source": [
    "import time\r\n",
    "import json"
   ],
   "outputs": [],
   "metadata": {}
  },
  {
   "cell_type": "markdown",
   "source": [
    "FUNCTION TO READ FILE FROM LOCAL MACHINE AND CONVERT INTO DICTIONARY"
   ],
   "metadata": {}
  },
  {
   "cell_type": "code",
   "execution_count": 37,
   "source": [
    "#filename should be in string and with extension example: \"records.json\"\r\n",
    "def readfile(filename):\r\n",
    "    read1=open(filename,'r')\r\n",
    "\r\n",
    "    txt=read1.read()\r\n",
    "\r\n",
    "    read1.close()\r\n",
    "\r\n",
    "    recreated=json.loads(txt)\r\n",
    "\r\n",
    "    return recreated"
   ],
   "outputs": [],
   "metadata": {}
  },
  {
   "cell_type": "markdown",
   "source": [
    "FUNCTION TO CONVERT DICTIONARY TO JSON AND STORE IN LOCAL MACHINE"
   ],
   "metadata": {}
  },
  {
   "cell_type": "code",
   "execution_count": 38,
   "source": [
    "def CreateFile(record,filename):\r\n",
    "#creating a string file from records dictionary\r\n",
    "    js=json.dumps(record)\r\n",
    "\r\n",
    "    #create a new json file into local machine\r\n",
    "    \r\n",
    "    file=open(filename,'w')\r\n",
    "\r\n",
    "    file.write(js)\r\n",
    "\r\n",
    "    file.close()"
   ],
   "outputs": [],
   "metadata": {}
  },
  {
   "cell_type": "markdown",
   "source": [
    "CREATE A NEW RECORD JSON FILE FROM START"
   ],
   "metadata": {}
  },
  {
   "cell_type": "code",
   "execution_count": 39,
   "source": [
    "def CreateFromStart():\r\n",
    "\r\n",
    "    records={}\r\n",
    "    number=int(input(\"Enter the number of Products: \"))\r\n",
    "    for i in range(number):\r\n",
    "          pid=int(input(\"Enter the product Id: \"))\r\n",
    "          name=input(\"Enter the product name: \")\r\n",
    "          category=input(\"Enter the product category: \")\r\n",
    "          UnitPrice=int(input(\"enter the price of per Unit: \"))\r\n",
    "          qty=int(input(\"Enter the quantity of product: \"))\r\n",
    "          Updatetime=time.ctime()\r\n",
    "          inventoryValue=UnitPrice*qty\r\n",
    " \r\n",
    "          records[pid]= {\"name\": name, \"category\": category, \"UnitPrice\": UnitPrice, \"qty\": qty, \"updatetime\":Updatetime, \"inventoryValue\":inventoryValue}\r\n",
    "        \r\n",
    "\r\n",
    "    CreateFile(records,\"records.json\")\r\n",
    "    \r\n",
    "    "
   ],
   "outputs": [],
   "metadata": {}
  },
  {
   "cell_type": "markdown",
   "source": [
    "FUNCTION TO ADD INTO ALREADY CREATED JSON FILE"
   ],
   "metadata": {}
  },
  {
   "cell_type": "code",
   "execution_count": 40,
   "source": [
    "def AddIntoInventory(filename):\r\n",
    "    #read file from local\r\n",
    "    recreated=readfile(filename)\r\n",
    "    #add products\r\n",
    "    number=int(input(\"Enter the number of Products: \"))\r\n",
    "    for i in range(number):\r\n",
    "        \r\n",
    "        pid=int(input(\"Enter the product Id: \"))\r\n",
    "        name=input(\"Enter the product name: \")\r\n",
    "        category=input(\"Enter the product category: \")\r\n",
    "        UnitPrice=int(input(\"enter the price of per Unit: \"))\r\n",
    "        qty=int(input(\"Enter the quantity of product: \"))\r\n",
    "        Updatetime=time.ctime()\r\n",
    "        inventoryValue=UnitPrice*qty\r\n",
    " \r\n",
    "        recreated[pid]= {\"name\": name, \"category\": category, \"UnitPrice\": UnitPrice, \"qty\": qty, \"updatetime\":Updatetime, \"inventoryValue\":inventoryValue}\r\n",
    "    #dump again\r\n",
    "    CreateFile(recreated,'records.json')\r\n",
    "    "
   ],
   "outputs": [],
   "metadata": {}
  },
  {
   "cell_type": "markdown",
   "source": [
    "FUNCTION TO DISPLAY THE RECORDS OF JSON FILE"
   ],
   "metadata": {}
  },
  {
   "cell_type": "code",
   "execution_count": 41,
   "source": [
    "def display(record):\r\n",
    "   \r\n",
    "    for i in list(record.keys()):\r\n",
    "        print(f\"PID:{i}, PName:{record[i]['name']}, Price:{record[i]['UnitPrice']}, Quantity:{record[i]['qty']}\")"
   ],
   "outputs": [],
   "metadata": {}
  },
  {
   "cell_type": "markdown",
   "source": [
    "FUNCTION TO REMOVE FROM INVENTORY IF QUANTITY IS LESS THAN 0 this is to check from start."
   ],
   "metadata": {}
  },
  {
   "cell_type": "code",
   "execution_count": null,
   "source": [
    "def RemoveFromInventory(recreate): \r\n",
    "       for i in list(recreate.keys()):\r\n",
    "                if(recreate[i]['qty']<=0):\r\n",
    "                        del recreate[i]"
   ],
   "outputs": [],
   "metadata": {}
  },
  {
   "cell_type": "markdown",
   "source": [
    "Remove function to add in Purchase function so that it can be checked during that runtime and one for loop doesnot required."
   ],
   "metadata": {}
  },
  {
   "cell_type": "code",
   "execution_count": null,
   "source": [
    "def RemoveDuringPurchase(recreate,prodID):\r\n",
    "     recreate.pop(prodID)\r\n",
    "\r\n",
    "     print(f\"{prodID} has been deleted as its quantity is less than 0\")"
   ],
   "outputs": [],
   "metadata": {}
  },
  {
   "cell_type": "markdown",
   "source": [
    "ALL FUNCTIONS FOR PURCHASE , TO GENERATE RECEIPT AND ONE FUNCTION TO DO IT IN ONE."
   ],
   "metadata": {}
  },
  {
   "cell_type": "code",
   "execution_count": 42,
   "source": [
    "PerReceipt={}"
   ],
   "outputs": [],
   "metadata": {}
  },
  {
   "cell_type": "code",
   "execution_count": 43,
   "source": [
    "salesrecords={}"
   ],
   "outputs": [],
   "metadata": {}
  },
  {
   "cell_type": "code",
   "execution_count": 1,
   "source": [
    "#different functions to generate receipt\r\n",
    "def salesrecord(prodId,quantity,bill):\r\n",
    "    \r\n",
    "    if prodId not in list(salesrecords.keys()):\r\n",
    "        salesrecords[prodId]={'quantitySold':quantity,'TotalBill':bill,'time':time.ctime()}\r\n",
    "    else:\r\n",
    "        salesrecords[prodId]['quantitySold']+=quantity\r\n",
    "        salesrecords[prodId]['TotalBill']+=bill\r\n",
    "        salesrecords[prodId]['time']=time.ctime()\r\n",
    "\r\n",
    "\r\n",
    "def receipt(prodId,quantity,unitPrice,Name):\r\n",
    "    \r\n",
    "    pid=prodId\r\n",
    "    quantityBought=quantity\r\n",
    "    Price=unitPrice\r\n",
    "    totalBill=quantityBought*Price\r\n",
    "    if Name not in list(PerReceipt.keys()):\r\n",
    "            PerReceipt[Name]={pid:{'quantityBought':quantity,'Unitprice':unitPrice,'totalbill':totalBill,'time':time.ctime()}}\r\n",
    "    else:\r\n",
    "        if prodId not in list(PerReceipt[Name].keys()):\r\n",
    "            PerReceipt[Name][pid]={'quantityBought':quantity,'Unitprice':unitPrice,'totalbill':totalBill,'time':time.ctime()}\r\n",
    "        else:\r\n",
    "             PerReceipt[Name][pid]['quantityBought']+=quantity\r\n",
    "             PerReceipt[Name][pid]['totalbill']+=totalBill\r\n",
    "\r\n",
    "\r\n",
    "\r\n",
    "\r\n",
    "def PrintReceipt(name):\r\n",
    "       finalSum=0\r\n",
    "       if(name in list(PerReceipt.keys())):\r\n",
    "               print(\"Name of Customer is: \",name)\r\n",
    "               for i in list(PerReceipt[name].keys()):\r\n",
    "                         PID=PerReceipt[name][i]\r\n",
    "                         PQuantity=PerReceipt[name][i]['quantityBought']\r\n",
    "                         PUnitPrice=PerReceipt[name][i]['Unitprice']\r\n",
    "                         Pcost=PerReceipt[name][i]['totalbill']\r\n",
    "                         finalSum+=Pcost\r\n",
    "                         print(f\"ProductId: {i} :{PID}\")\r\n",
    "                \r\n",
    "               print(\"Final bill amount is: \",finalSum) \r\n",
    "\r\n",
    "def purchase(recreate):\r\n",
    "    Name=input(\"Enter Your Name:\")\r\n",
    "    count=int(input(\"How many products you want to buy: \"))\r\n",
    "    prod=list(input(\"enter the product ids and put comma between them:\").split(\",\"))\r\n",
    "   \r\n",
    "    \r\n",
    "    for prodId in prod:\r\n",
    "         if(prodId not in list(recreate.keys())):\r\n",
    "                 print(f\"Error {prodId} doesn't exist!,Please Enter Correct Product Id in next go\")\r\n",
    "         #if quantity in store is zero        \r\n",
    "         elif(recreate[prodId]['qty']<=0):\r\n",
    "                 print(\"Sorry We don't have this item is stock currently\")\r\n",
    "                 RemoveDuringPurchase(recreate,prodId)\r\n",
    "         else:\r\n",
    "               #ask for quantity\r\n",
    "               quantity=int(input(f\"How much do you need of {prodId}: \"))\r\n",
    "    \r\n",
    "               if(quantity>recreate[prodId]['qty']):\r\n",
    "                       print(f\"We only have {recreate[prodId]['qty']} right now. Do you want to proceed?\")\r\n",
    "                       answer=input(\"Enter Y for yes and N for No: \")\r\n",
    "                       if(answer==\"N\"):\r\n",
    "                            print(\"Thank You for Visiting.Visit Again\")\r\n",
    "                       else:\r\n",
    "                            bill=recreate[prodId]['qty']*recreate[prodId]['UnitPrice']\r\n",
    "                            #print(f\"Your Bill for {recreate[prodId]['qty']} at {recreate[prodId]['UnitPrice']} per piece is {bill}\")\r\n",
    "                            recreate[prodId]['qty']=0\r\n",
    "                            recreate[prodId]['updatetime']=time.ctime()\r\n",
    "                            recreate[prodId]['inventoryValue']=recreate[prodId]['qty']*recreate[prodId]['UnitPrice']\r\n",
    "                            receipt(prodId,quantity,recreate[prodId]['UnitPrice'],Name)\r\n",
    "                            salesrecord(prodId,quantity,bill)\r\n",
    "                            \r\n",
    "                            \r\n",
    "\r\n",
    "               else:\r\n",
    "                       bill=quantity*recreate[prodId]['UnitPrice']\r\n",
    "                       #print(f\"Your bill for {quantity} at {recreate[prodId]['UnitPrice']} per piece is {bill}\")\r\n",
    "                       recreate[prodId]['qty']=recreate[prodId]['qty']-quantity\r\n",
    "                       recreate[prodId]['updatetime']=time.ctime()\r\n",
    "                       recreate[prodId]['inventoryValue']=recreate[prodId]['qty']*recreate[prodId]['UnitPrice']\r\n",
    "                       receipt(prodId,quantity,recreate[prodId]['UnitPrice'],Name)\r\n",
    "                       salesrecord(prodId,quantity,bill)\r\n",
    "    CreateFile(salesrecords,\"salesRecord.json\")\r\n",
    "    CreateFile(PerReceipt,'PersonRecord.json')\r\n",
    "                       \r\n",
    "                       \r\n",
    "    "
   ],
   "outputs": [],
   "metadata": {}
  },
  {
   "cell_type": "markdown",
   "source": [
    "FUNCTION FOR GENERATING RECEIPT AND PERSON_RECORDS JSON FILE"
   ],
   "metadata": {}
  },
  {
   "cell_type": "code",
   "execution_count": 45,
   "source": [
    "def GenerateReceipt(filename):\r\n",
    "    CustomerName=input(\"Customer name is: \")\r\n",
    "    recreate=readfile(filename)\r\n",
    "    PrintReceipt(CustomerName)\r\n",
    "    CreateFile(PerReceipt,\"PersonRecord.json\")"
   ],
   "outputs": [],
   "metadata": {}
  },
  {
   "cell_type": "markdown",
   "source": [
    "ALL FUNCTIONS FOR GENERATING SALES RECORD, MAX SOLD PRODUCT , TOTAL SALE AND ONE FUNCTION TO GENERATE ALL THESE IN ONE."
   ],
   "metadata": {}
  },
  {
   "cell_type": "code",
   "execution_count": 46,
   "source": [
    "def MaxSale(filename):\r\n",
    "    maxSale=0\r\n",
    "    \r\n",
    "    maxSaleid=0\r\n",
    "\r\n",
    "    saleRecreate=readfile(filename)\r\n",
    "\r\n",
    "\r\n",
    "    for i in list(saleRecreate.keys()):\r\n",
    "             if(saleRecreate[i]['TotalBill']>maxSale):\r\n",
    "                        maxSale=saleRecreate[i]['TotalBill']\r\n",
    "                        maxSaleid=i\r\n",
    "    print(f\"MAX SOLD PRODUCT IS: {maxSaleid} \\nTotal Quantity Sold is: {saleRecreate[maxSaleid]['quantitySold']}\\nTotal Sale in INR is: {maxSale}\")\r\n",
    "\r\n",
    "\r\n",
    "def PrintSales(salesrecords):\r\n",
    "        print(salesrecords)\r\n",
    "\r\n",
    "\r\n",
    "def TotalSale(sales):\r\n",
    "    totalsale=0\r\n",
    "    for i in list(sales.keys()):\r\n",
    "          totalsale+=sales[i]['TotalBill']\r\n",
    "    \r\n",
    "    print(f\"total sale of day is: INR {totalsale}\")"
   ],
   "outputs": [],
   "metadata": {}
  },
  {
   "cell_type": "code",
   "execution_count": 47,
   "source": [
    "def GenerateSalesRecord(filename):\r\n",
    "    salesrecords=readfile(filename)\r\n",
    "    PrintSales(salesrecords)\r\n",
    "    TotalSale(salesrecords)\r\n",
    "    MaxSale(\"salesRecord.json\")\r\n",
    "    CreateFile(salesrecords,\"SalesRecord.json\")"
   ],
   "outputs": [],
   "metadata": {}
  },
  {
   "cell_type": "markdown",
   "source": [
    "CODE TO CHECK ABOVE FUNCTIONS\r\n"
   ],
   "metadata": {}
  },
  {
   "cell_type": "code",
   "execution_count": 48,
   "source": [
    "check=readfile(\"records.json\")"
   ],
   "outputs": [],
   "metadata": {}
  },
  {
   "cell_type": "code",
   "execution_count": 49,
   "source": [
    "check"
   ],
   "outputs": [
    {
     "output_type": "execute_result",
     "data": {
      "text/plain": [
       "{'1001': {'name': 'Kit-Kat',\n",
       "  'category': 'Chocolate',\n",
       "  'UnitPrice': 5,\n",
       "  'qty': 67,\n",
       "  'updatetime': 'Sat Sep  4 12:59:21 2021',\n",
       "  'inventoryValue': 335},\n",
       " '1002': {'name': 'Kit-Kat',\n",
       "  'category': 'Chocolate',\n",
       "  'UnitPrice': 10,\n",
       "  'qty': 23,\n",
       "  'updatetime': 'Sat Sep  4 12:59:24 2021',\n",
       "  'inventoryValue': 230},\n",
       " '1003': {'name': 'Kit-Kat',\n",
       "  'category': 'Chocolate',\n",
       "  'UnitPrice': 20,\n",
       "  'qty': 39,\n",
       "  'updatetime': 'Sat Sep  4 09:49:55 2021',\n",
       "  'inventoryValue': 1000},\n",
       " '1004': {'name': 'DairyMilk',\n",
       "  'category': 'Chocolate',\n",
       "  'UnitPrice': 5,\n",
       "  'qty': 16,\n",
       "  'updatetime': 'Sat Sep  4 09:50:46 2021',\n",
       "  'inventoryValue': 100},\n",
       " '1005': {'name': 'DairyMilk',\n",
       "  'category': 'Chocolate',\n",
       "  'UnitPrice': 10,\n",
       "  'qty': 52,\n",
       "  'updatetime': 'Sat Sep  4 09:51:09 2021',\n",
       "  'inventoryValue': 520},\n",
       " '1006': {'name': 'DairyMilk',\n",
       "  'category': 'Chocolate',\n",
       "  'UnitPrice': 20,\n",
       "  'qty': 35,\n",
       "  'updatetime': 'Sat Sep  4 09:51:33 2021',\n",
       "  'inventoryValue': 700},\n",
       " '1007': {'name': 'MilkyBar',\n",
       "  'category': 'Chocolate',\n",
       "  'UnitPrice': 10,\n",
       "  'qty': 28,\n",
       "  'updatetime': 'Sat Sep  4 09:52:02 2021',\n",
       "  'inventoryValue': 280},\n",
       " '1008': {'name': 'MilkyBar',\n",
       "  'category': 'Chocolate',\n",
       "  'UnitPrice': 20,\n",
       "  'qty': 50,\n",
       "  'updatetime': 'Sat Sep  4 09:52:18 2021',\n",
       "  'inventoryValue': 1000},\n",
       " '1009': {'name': 'Snickers',\n",
       "  'category': 'Chocolate',\n",
       "  'UnitPrice': 35,\n",
       "  'qty': 30,\n",
       "  'updatetime': 'Sat Sep  4 09:52:43 2021',\n",
       "  'inventoryValue': 1050},\n",
       " '1010': {'name': 'Snickers',\n",
       "  'category': 'Chocolate',\n",
       "  'UnitPrice': 50,\n",
       "  'qty': 20,\n",
       "  'updatetime': 'Sat Sep  4 09:53:04 2021',\n",
       "  'inventoryValue': 1000},\n",
       " '1011': {'name': '5-Star',\n",
       "  'category': 'Chocolate',\n",
       "  'UnitPrice': 5,\n",
       "  'qty': 29,\n",
       "  'updatetime': 'Sat Sep  4 09:53:33 2021',\n",
       "  'inventoryValue': 200},\n",
       " '1012': {'name': '5-Star',\n",
       "  'category': 'Chocolate',\n",
       "  'UnitPrice': 10,\n",
       "  'qty': 40,\n",
       "  'updatetime': 'Sat Sep  4 09:53:50 2021',\n",
       "  'inventoryValue': 400},\n",
       " '1013': {'name': '5-Star',\n",
       "  'category': 'Chocolate',\n",
       "  'UnitPrice': 20,\n",
       "  'qty': 26,\n",
       "  'updatetime': 'Sat Sep  4 09:54:11 2021',\n",
       "  'inventoryValue': 520},\n",
       " '1014': {'name': 'GoodDay',\n",
       "  'category': 'Biscuits',\n",
       "  'UnitPrice': 10,\n",
       "  'qty': 30,\n",
       "  'updatetime': 'Sat Sep  4 09:54:38 2021',\n",
       "  'inventoryValue': 300},\n",
       " '1015': {'name': 'GoodDay',\n",
       "  'category': 'Biscuits',\n",
       "  'UnitPrice': 20,\n",
       "  'qty': 42,\n",
       "  'updatetime': 'Sat Sep  4 09:54:59 2021',\n",
       "  'inventoryValue': 840},\n",
       " '1016': {'name': 'Tiger',\n",
       "  'category': 'Biscuits',\n",
       "  'UnitPrice': 5,\n",
       "  'qty': 20,\n",
       "  'updatetime': 'Sat Sep  4 09:55:27 2021',\n",
       "  'inventoryValue': 100},\n",
       " '1017': {'name': 'Tiger',\n",
       "  'category': 'Biscuits',\n",
       "  'UnitPrice': 20,\n",
       "  'qty': 43,\n",
       "  'updatetime': 'Sat Sep  4 09:55:45 2021',\n",
       "  'inventoryValue': 860},\n",
       " '1018': {'name': 'ParleG',\n",
       "  'category': 'Biscuits',\n",
       "  'UnitPrice': 5,\n",
       "  'qty': 50,\n",
       "  'updatetime': 'Sat Sep  4 09:56:09 2021',\n",
       "  'inventoryValue': 250},\n",
       " '1019': {'name': 'ParleG',\n",
       "  'category': 'Biscuits',\n",
       "  'UnitPrice': 20,\n",
       "  'qty': 40,\n",
       "  'updatetime': 'Sat Sep  4 09:56:31 2021',\n",
       "  'inventoryValue': 800},\n",
       " '1020': {'name': 'MarieGold',\n",
       "  'category': 'Biscuits',\n",
       "  'UnitPrice': 10,\n",
       "  'qty': 30,\n",
       "  'updatetime': 'Sat Sep  4 09:56:49 2021',\n",
       "  'inventoryValue': 300},\n",
       " '1021': {'name': 'MarieGold',\n",
       "  'category': 'Biscuits',\n",
       "  'UnitPrice': 20,\n",
       "  'qty': 20,\n",
       "  'updatetime': 'Sat Sep  4 09:57:06 2021',\n",
       "  'inventoryValue': 400},\n",
       " '1022': {'name': 'Lotte-ChocoBar',\n",
       "  'category': 'ChocoCake',\n",
       "  'UnitPrice': 20,\n",
       "  'qty': 20,\n",
       "  'updatetime': 'Sat Sep  4 09:57:41 2021',\n",
       "  'inventoryValue': 400},\n",
       " '1023': {'name': 'UncleChips',\n",
       "  'category': 'Chips',\n",
       "  'UnitPrice': 10,\n",
       "  'qty': 50,\n",
       "  'updatetime': 'Sat Sep  4 09:58:17 2021',\n",
       "  'inventoryValue': 500},\n",
       " '1024': {'name': 'UncleChips',\n",
       "  'category': 'Chips',\n",
       "  'UnitPrice': 20,\n",
       "  'qty': 30,\n",
       "  'updatetime': 'Sat Sep  4 09:58:32 2021',\n",
       "  'inventoryValue': 600},\n",
       " '1025': {'name': 'Lays(Tomato)',\n",
       "  'category': 'Chips',\n",
       "  'UnitPrice': 5,\n",
       "  'qty': 30,\n",
       "  'updatetime': 'Sat Sep  4 09:59:02 2021',\n",
       "  'inventoryValue': 150},\n",
       " '1026': {'name': 'Lays(Tomato)',\n",
       "  'category': 'Chips',\n",
       "  'UnitPrice': 10,\n",
       "  'qty': 42,\n",
       "  'updatetime': 'Sat Sep  4 09:59:19 2021',\n",
       "  'inventoryValue': 420},\n",
       " '1027': {'name': 'Lays(Indian)',\n",
       "  'category': 'Chips',\n",
       "  'UnitPrice': 5,\n",
       "  'qty': 20,\n",
       "  'updatetime': 'Sat Sep  4 09:59:46 2021',\n",
       "  'inventoryValue': 100},\n",
       " '1028': {'name': 'Lays(Indian)',\n",
       "  'category': 'Chips',\n",
       "  'UnitPrice': 10,\n",
       "  'qty': 42,\n",
       "  'updatetime': 'Sat Sep  4 10:00:00 2021',\n",
       "  'inventoryValue': 420},\n",
       " '1029': {'name': 'Crax',\n",
       "  'category': 'Rings',\n",
       "  'UnitPrice': 5,\n",
       "  'qty': 10,\n",
       "  'updatetime': 'Sat Sep  4 10:00:37 2021',\n",
       "  'inventoryValue': 50},\n",
       " '1030': {'name': 'Crax',\n",
       "  'category': 'Rings',\n",
       "  'UnitPrice': 10,\n",
       "  'qty': 34,\n",
       "  'updatetime': 'Sat Sep  4 10:00:51 2021',\n",
       "  'inventoryValue': 390},\n",
       " '1031': {'name': 'Bingo',\n",
       "  'category': 'Chips',\n",
       "  'UnitPrice': 5,\n",
       "  'qty': 20,\n",
       "  'updatetime': 'Sat Sep  4 10:01:17 2021',\n",
       "  'inventoryValue': 100},\n",
       " '1032': {'name': 'Bingo',\n",
       "  'category': 'Chip',\n",
       "  'UnitPrice': 10,\n",
       "  'qty': 45,\n",
       "  'updatetime': 'Sat Sep  4 10:01:31 2021',\n",
       "  'inventoryValue': 450},\n",
       " '1033': {'name': 'Bingo',\n",
       "  'category': 'Chips',\n",
       "  'UnitPrice': 20,\n",
       "  'qty': 32,\n",
       "  'updatetime': 'Sat Sep  4 10:01:46 2021',\n",
       "  'inventoryValue': 640},\n",
       " '1034': {'name': 'Kurkure(red)',\n",
       "  'category': 'Kurkure',\n",
       "  'UnitPrice': 10,\n",
       "  'qty': 10,\n",
       "  'updatetime': 'Sat Sep  4 10:02:08 2021',\n",
       "  'inventoryValue': 100},\n",
       " '1035': {'name': 'Kurkure(green)',\n",
       "  'category': 'Kurkure',\n",
       "  'UnitPrice': 20,\n",
       "  'qty': 20,\n",
       "  'updatetime': 'Sat Sep  4 10:02:28 2021',\n",
       "  'inventoryValue': 400},\n",
       " '1036': {'name': 'Thums-Up',\n",
       "  'category': 'Soft-Drink',\n",
       "  'UnitPrice': 35,\n",
       "  'qty': 30,\n",
       "  'updatetime': 'Sat Sep  4 11:17:53 2021',\n",
       "  'inventoryValue': 1050},\n",
       " '1037': {'name': 'Coca-Cola',\n",
       "  'category': 'Soft-Drinks',\n",
       "  'UnitPrice': 40,\n",
       "  'qty': 20,\n",
       "  'updatetime': 'Sat Sep  4 11:18:27 2021',\n",
       "  'inventoryValue': 800}}"
      ]
     },
     "metadata": {},
     "execution_count": 49
    }
   ],
   "metadata": {}
  },
  {
   "cell_type": "code",
   "execution_count": 50,
   "source": [
    "#DISPLAY FUNCTION\r\n",
    "display(check)"
   ],
   "outputs": [
    {
     "output_type": "stream",
     "name": "stdout",
     "text": [
      "PID:1001, PName:Kit-Kat, Price:5, Quantity:67\n",
      "PID:1002, PName:Kit-Kat, Price:10, Quantity:23\n",
      "PID:1003, PName:Kit-Kat, Price:20, Quantity:39\n",
      "PID:1004, PName:DairyMilk, Price:5, Quantity:16\n",
      "PID:1005, PName:DairyMilk, Price:10, Quantity:52\n",
      "PID:1006, PName:DairyMilk, Price:20, Quantity:35\n",
      "PID:1007, PName:MilkyBar, Price:10, Quantity:28\n",
      "PID:1008, PName:MilkyBar, Price:20, Quantity:50\n",
      "PID:1009, PName:Snickers, Price:35, Quantity:30\n",
      "PID:1010, PName:Snickers, Price:50, Quantity:20\n",
      "PID:1011, PName:5-Star, Price:5, Quantity:29\n",
      "PID:1012, PName:5-Star, Price:10, Quantity:40\n",
      "PID:1013, PName:5-Star, Price:20, Quantity:26\n",
      "PID:1014, PName:GoodDay, Price:10, Quantity:30\n",
      "PID:1015, PName:GoodDay, Price:20, Quantity:42\n",
      "PID:1016, PName:Tiger, Price:5, Quantity:20\n",
      "PID:1017, PName:Tiger, Price:20, Quantity:43\n",
      "PID:1018, PName:ParleG, Price:5, Quantity:50\n",
      "PID:1019, PName:ParleG, Price:20, Quantity:40\n",
      "PID:1020, PName:MarieGold, Price:10, Quantity:30\n",
      "PID:1021, PName:MarieGold, Price:20, Quantity:20\n",
      "PID:1022, PName:Lotte-ChocoBar, Price:20, Quantity:20\n",
      "PID:1023, PName:UncleChips, Price:10, Quantity:50\n",
      "PID:1024, PName:UncleChips, Price:20, Quantity:30\n",
      "PID:1025, PName:Lays(Tomato), Price:5, Quantity:30\n",
      "PID:1026, PName:Lays(Tomato), Price:10, Quantity:42\n",
      "PID:1027, PName:Lays(Indian), Price:5, Quantity:20\n",
      "PID:1028, PName:Lays(Indian), Price:10, Quantity:42\n",
      "PID:1029, PName:Crax, Price:5, Quantity:10\n",
      "PID:1030, PName:Crax, Price:10, Quantity:34\n",
      "PID:1031, PName:Bingo, Price:5, Quantity:20\n",
      "PID:1032, PName:Bingo, Price:10, Quantity:45\n",
      "PID:1033, PName:Bingo, Price:20, Quantity:32\n",
      "PID:1034, PName:Kurkure(red), Price:10, Quantity:10\n",
      "PID:1035, PName:Kurkure(green), Price:20, Quantity:20\n",
      "PID:1036, PName:Thums-Up, Price:35, Quantity:30\n",
      "PID:1037, PName:Coca-Cola, Price:40, Quantity:20\n"
     ]
    }
   ],
   "metadata": {}
  },
  {
   "cell_type": "code",
   "execution_count": 51,
   "source": [
    "#PURCHASE ITEMS\r\n",
    "purchase(check)"
   ],
   "outputs": [
    {
     "output_type": "stream",
     "name": "stdout",
     "text": [
      "Error 109 doesn't exist!,Please Enter Correct Product Id in next go\n"
     ]
    }
   ],
   "metadata": {}
  },
  {
   "cell_type": "code",
   "execution_count": 52,
   "source": [
    "GenerateReceipt(\"PersonRecord.json\")"
   ],
   "outputs": [],
   "metadata": {}
  },
  {
   "cell_type": "code",
   "execution_count": 53,
   "source": [
    "GenerateSalesRecord(\"salesRecord.json\")"
   ],
   "outputs": [
    {
     "output_type": "stream",
     "name": "stdout",
     "text": [
      "{'1005': {'quantitySold': 1, 'TotalBill': 10, 'time': 'Sun Sep  5 11:15:59 2021'}}\n",
      "total sale of day is: INR 10\n",
      "MAX SOLD PRODUCT IS: 1005 \n",
      "Total Quantity Sold is: 1\n",
      "Total Sale in INR is: 10\n"
     ]
    }
   ],
   "metadata": {}
  },
  {
   "cell_type": "code",
   "execution_count": 55,
   "source": [
    "purchase(check)"
   ],
   "outputs": [],
   "metadata": {}
  },
  {
   "cell_type": "code",
   "execution_count": 56,
   "source": [
    "GenerateReceipt(\"PersonRecord.json\")"
   ],
   "outputs": [
    {
     "output_type": "stream",
     "name": "stdout",
     "text": [
      "Name of Customer is:  Anusha\n",
      "ProductId: 1011 :{'quantityBought': 4, 'Unitprice': 5, 'totalbill': 20, 'time': 'Sun Sep  5 11:16:58 2021'}\n",
      "ProductId: 1017 :{'quantityBought': 5, 'Unitprice': 20, 'totalbill': 100, 'time': 'Sun Sep  5 11:16:59 2021'}\n",
      "ProductId: 1023 :{'quantityBought': 6, 'Unitprice': 10, 'totalbill': 60, 'time': 'Sun Sep  5 11:17:00 2021'}\n",
      "Final bill amount is:  180\n"
     ]
    }
   ],
   "metadata": {}
  },
  {
   "cell_type": "code",
   "execution_count": 57,
   "source": [
    "GenerateSalesRecord(\"salesRecord.json\")"
   ],
   "outputs": [
    {
     "output_type": "stream",
     "name": "stdout",
     "text": [
      "{'1005': {'quantitySold': 1, 'TotalBill': 10, 'time': 'Sun Sep  5 11:15:59 2021'}, '1011': {'quantitySold': 4, 'TotalBill': 20, 'time': 'Sun Sep  5 11:16:58 2021'}, '1017': {'quantitySold': 5, 'TotalBill': 100, 'time': 'Sun Sep  5 11:16:59 2021'}, '1023': {'quantitySold': 6, 'TotalBill': 60, 'time': 'Sun Sep  5 11:17:00 2021'}}\n",
      "total sale of day is: INR 190\n",
      "MAX SOLD PRODUCT IS: 1017 \n",
      "Total Quantity Sold is: 5\n",
      "Total Sale in INR is: 100\n"
     ]
    }
   ],
   "metadata": {}
  },
  {
   "cell_type": "code",
   "execution_count": 35,
   "source": [
    "#THAT'S IT FOR NOW..."
   ],
   "outputs": [],
   "metadata": {}
  }
 ],
 "metadata": {
  "orig_nbformat": 4,
  "language_info": {
   "name": "python",
   "version": "3.8.3",
   "mimetype": "text/x-python",
   "codemirror_mode": {
    "name": "ipython",
    "version": 3
   },
   "pygments_lexer": "ipython3",
   "nbconvert_exporter": "python",
   "file_extension": ".py"
  },
  "kernelspec": {
   "name": "python3",
   "display_name": "Python 3.8.3 64-bit"
  },
  "interpreter": {
   "hash": "cd8ac7ed5329ff1f59a8356dfddf06d159cf18414acbfd7b13d1d5cd1cbb5d7d"
  }
 },
 "nbformat": 4,
 "nbformat_minor": 2
}