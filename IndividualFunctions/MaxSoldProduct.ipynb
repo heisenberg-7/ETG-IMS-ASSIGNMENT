{
 "cells": [
  {
   "cell_type": "code",
   "execution_count": 1,
   "source": [
    "import json \r\n",
    "import time\r\n"
   ],
   "outputs": [],
   "metadata": {}
  },
  {
   "cell_type": "code",
   "execution_count": 8,
   "source": [
    "file=open('salesRecord.json','r')\r\n",
    "\r\n",
    "text=file.read()\r\n",
    "\r\n",
    "file.close()\r\n",
    "\r\n",
    "saleRecreate=json.loads(text)\r\n"
   ],
   "outputs": [],
   "metadata": {}
  },
  {
   "cell_type": "code",
   "execution_count": 9,
   "source": [
    "saleRecreate"
   ],
   "outputs": [
    {
     "output_type": "execute_result",
     "data": {
      "text/plain": [
       "{'1001': {'quantitySold': 12,\n",
       "  'TotalBill': 60,\n",
       "  'date': 'Sat Sep  4 13:16:17 2021'},\n",
       " '1002': {'quantitySold': 11,\n",
       "  'TotalBill': 110,\n",
       "  'date': 'Sat Sep  4 13:16:17 2021'}}"
      ]
     },
     "metadata": {},
     "execution_count": 9
    }
   ],
   "metadata": {}
  },
  {
   "cell_type": "code",
   "execution_count": 23,
   "source": [
    "\r\n",
    "def MaxSale():\r\n",
    "    maxSale=0\r\n",
    "    \r\n",
    "    maxSaleid=0\r\n",
    "    \r\n",
    "    file=open('salesRecord.json','r')\r\n",
    "\r\n",
    "    text=file.read()\r\n",
    "\r\n",
    "    file.close()\r\n",
    "\r\n",
    "    saleRecreate=json.loads(text)\r\n",
    "\r\n",
    "\r\n",
    "    for i in list(saleRecreate.keys()):\r\n",
    "             if(saleRecreate[i]['TotalBill']>maxSale):\r\n",
    "                        maxSale=saleRecreate[i]['TotalBill']\r\n",
    "                        maxSaleid=i\r\n",
    "    print(f\"MAX SOLD PRODUCT IS: {maxSaleid} \\nTotal Quantity Sold is: {saleRecreate[maxSaleid]['quantitySold']}\\nTotal Sale in INR is: {maxSale}\")\r\n"
   ],
   "outputs": [],
   "metadata": {}
  },
  {
   "cell_type": "code",
   "execution_count": 24,
   "source": [
    "MaxSale()"
   ],
   "outputs": [
    {
     "output_type": "stream",
     "name": "stdout",
     "text": [
      "MAX SOLD PRODUCT IS: 1002 \n",
      "Total Quantity Sold is: 11\n",
      "Total Sale in INR is: 110\n"
     ]
    }
   ],
   "metadata": {}
  },
  {
   "cell_type": "markdown",
   "source": [],
   "metadata": {}
  }
 ],
 "metadata": {
  "orig_nbformat": 4,
  "language_info": {
   "name": "python",
   "version": "3.8.3",
   "mimetype": "text/x-python",
   "codemirror_mode": {
    "name": "ipython",
    "version": 3
   },
   "pygments_lexer": "ipython3",
   "nbconvert_exporter": "python",
   "file_extension": ".py"
  },
  "kernelspec": {
   "name": "python3",
   "display_name": "Python 3.8.3 64-bit ('base': conda)"
  },
  "interpreter": {
   "hash": "cd8ac7ed5329ff1f59a8356dfddf06d159cf18414acbfd7b13d1d5cd1cbb5d7d"
  }
 },
 "nbformat": 4,
 "nbformat_minor": 2
}